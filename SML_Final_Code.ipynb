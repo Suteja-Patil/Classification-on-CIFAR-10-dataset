{
  "nbformat": 4,
  "nbformat_minor": 0,
  "metadata": {
    "colab": {
      "name": "SML_Final_Code.ipynb",
      "provenance": [],
      "collapsed_sections": []
    },
    "kernelspec": {
      "name": "python3",
      "display_name": "Python 3"
    },
    "language_info": {
      "name": "python"
    }
  },
  "cells": [
    {
      "cell_type": "code",
      "execution_count": 2,
      "metadata": {
        "id": "5qiRM5vOFYkC"
      },
      "outputs": [],
      "source": [
        "import tensorflow as tf\n",
        "from tensorflow.keras import datasets,layers,models\n",
        "import matplotlib.pyplot as plt\n",
        "import numpy as np\n",
        "from sklearn.metrics import classification_report\n",
        "from sklearn.linear_model import LogisticRegression\n",
        "from sklearn.decomposition import PCA\n",
        "from sklearn import svm\n",
        "from sklearn.ensemble import RandomForestClassifier\n",
        "from sklearn.metrics import classification_report,confusion_matrix,accuracy_score\n",
        "import time"
      ]
    },
    {
      "cell_type": "markdown",
      "source": [
        "#Data Modelling and Pre-processing"
      ],
      "metadata": {
        "id": "hgWPGiUBINQX"
      }
    },
    {
      "cell_type": "code",
      "source": [
        "(xtrain,ytrain),(xtest,ytest)= datasets.cifar10.load_data()"
      ],
      "metadata": {
        "id": "O8JgewwcIRyf",
        "colab": {
          "base_uri": "https://localhost:8080/"
        },
        "outputId": "73e3a49c-5443-46ce-bcb6-21852fce2a81"
      },
      "execution_count": 3,
      "outputs": [
        {
          "output_type": "stream",
          "name": "stdout",
          "text": [
            "Downloading data from https://www.cs.toronto.edu/~kriz/cifar-10-python.tar.gz\n",
            "170500096/170498071 [==============================] - 4s 0us/step\n",
            "170508288/170498071 [==============================] - 4s 0us/step\n"
          ]
        }
      ]
    },
    {
      "cell_type": "code",
      "source": [
        "xtrain.shape\n",
        "#50000 images of size 32x32 with 3 as the RGB channel"
      ],
      "metadata": {
        "colab": {
          "base_uri": "https://localhost:8080/"
        },
        "id": "EmV3iQQfIYw0",
        "outputId": "6d9eb2ea-6925-4c99-84f7-90a0e21c907b"
      },
      "execution_count": 4,
      "outputs": [
        {
          "output_type": "execute_result",
          "data": {
            "text/plain": [
              "(50000, 32, 32, 3)"
            ]
          },
          "metadata": {},
          "execution_count": 4
        }
      ]
    },
    {
      "cell_type": "code",
      "source": [
        "xtest.shape\n",
        "#10000 images of size 32x32 with 3 as the RGB channel"
      ],
      "metadata": {
        "colab": {
          "base_uri": "https://localhost:8080/"
        },
        "id": "WH5nHvP7IfhY",
        "outputId": "3d00f27b-d6b8-4b0e-8e1d-8389e6cea390"
      },
      "execution_count": 5,
      "outputs": [
        {
          "output_type": "execute_result",
          "data": {
            "text/plain": [
              "(10000, 32, 32, 3)"
            ]
          },
          "metadata": {},
          "execution_count": 5
        }
      ]
    },
    {
      "cell_type": "code",
      "source": [
        "ytrain.shape\n",
        "#50000 images with second parameter as an integer label value corresponding to  \n",
        "#which class the image belongs to"
      ],
      "metadata": {
        "colab": {
          "base_uri": "https://localhost:8080/"
        },
        "id": "uM1-Rm59Ijq9",
        "outputId": "1a582a09-3d00-4b9e-f715-18d339c6d40d"
      },
      "execution_count": 6,
      "outputs": [
        {
          "output_type": "execute_result",
          "data": {
            "text/plain": [
              "(50000, 1)"
            ]
          },
          "metadata": {},
          "execution_count": 6
        }
      ]
    },
    {
      "cell_type": "code",
      "source": [
        "ytrain[:5]\n",
        "#these are the labels for corresponding classes starting from 0-9"
      ],
      "metadata": {
        "colab": {
          "base_uri": "https://localhost:8080/"
        },
        "id": "BgMYeafxImeJ",
        "outputId": "60340d11-f6ca-47ea-9179-6cfb34923837"
      },
      "execution_count": 7,
      "outputs": [
        {
          "output_type": "execute_result",
          "data": {
            "text/plain": [
              "array([[6],\n",
              "       [9],\n",
              "       [9],\n",
              "       [4],\n",
              "       [1]], dtype=uint8)"
            ]
          },
          "metadata": {},
          "execution_count": 7
        }
      ]
    },
    {
      "cell_type": "code",
      "source": [
        "#converted 2d array of labels into 1d array\n",
        "ytrain = ytrain.reshape(-1,)\n",
        "ytrain[:5]\n"
      ],
      "metadata": {
        "colab": {
          "base_uri": "https://localhost:8080/"
        },
        "id": "KJqNkpPcIphs",
        "outputId": "e2bf39f5-4928-403c-82cc-e82f77379dcf"
      },
      "execution_count": 8,
      "outputs": [
        {
          "output_type": "execute_result",
          "data": {
            "text/plain": [
              "array([6, 9, 9, 4, 1], dtype=uint8)"
            ]
          },
          "metadata": {},
          "execution_count": 8
        }
      ]
    },
    {
      "cell_type": "code",
      "source": [
        "classes = [\"airplane\",\"automobile\",\"bird\",\"cat\",\"deer\",\"dog\",\"frog\",\"horse\",\n",
        "           \"ship\",\"truck\"]"
      ],
      "metadata": {
        "id": "wwu2fddILyDc"
      },
      "execution_count": 9,
      "outputs": []
    },
    {
      "cell_type": "code",
      "source": [
        "def image_with_label(X,y,index):\n",
        "  plt.figure(figsize=(30,3))\n",
        "  plt.imshow(xtrain[index])\n",
        "  plt.xlabel(classes[y[index]])\n"
      ],
      "metadata": {
        "id": "KCT6pDHrLziQ"
      },
      "execution_count": 10,
      "outputs": []
    },
    {
      "cell_type": "code",
      "source": [
        "image_with_label(xtrain,ytrain,4)"
      ],
      "metadata": {
        "colab": {
          "base_uri": "https://localhost:8080/",
          "height": 226
        },
        "id": "vhhYSkKDL_dh",
        "outputId": "64ffa5ab-d0e1-4a8a-f893-9ec05847f593"
      },
      "execution_count": 11,
      "outputs": [
        {
          "output_type": "display_data",
          "data": {
            "text/plain": [
              "<Figure size 2160x216 with 1 Axes>"
            ],
            "image/png": "[encoded data removed]"
          },
          "metadata": {
            "needs_background": "light"
          }
        }
      ]
    },
    {
      "cell_type": "code",
      "source": [
        "#normalizing the data into 0 to 1 range\n",
        "xtrain=xtrain/255\n",
        "xtest=xtest/255"
      ],
      "metadata": {
        "id": "YXYeWANHMaqp"
      },
      "execution_count": 12,
      "outputs": []
    },
    {
      "cell_type": "markdown",
      "source": [
        "#Model 1 - Logistic Regression"
      ],
      "metadata": {
        "id": "7V-vqAk3Mfc3"
      }
    },
    {
      "cell_type": "code",
      "source": [
        "x_train = np.reshape(xtrain,(xtrain.shape[0],-1))\n",
        "x_test  = np.reshape( xtest, (xtest.shape[0],-1))"
      ],
      "metadata": {
        "id": "0V2-_aoRMjUy"
      },
      "execution_count": 13,
      "outputs": []
    },
    {
      "cell_type": "code",
      "source": [
        "#applying PCA to the input features that is x_train \n",
        "pca = PCA()\n",
        "pca.fit_transform(x_train)"
      ],
      "metadata": {
        "colab": {
          "base_uri": "https://localhost:8080/"
        },
        "id": "-y2Al-gENDrm",
        "outputId": "2bba17d5-cf8d-4e4a-856a-a88f1eee779d"
      },
      "execution_count": 14,
      "outputs": [
        {
          "output_type": "execute_result",
          "data": {
            "text/plain": [
              "array([[-6.40101763e+00,  2.72903876e+00,  1.50171052e+00, ...,\n",
              "        -7.62287826e-04, -1.16359323e-03, -3.49768400e-04],\n",
              "       [ 8.29783385e-01, -9.49943219e-01,  6.00375260e+00, ...,\n",
              "         1.08434589e-04,  5.76715387e-04, -7.71005927e-04],\n",
              "       [ 7.73019978e+00, -1.15221023e+01, -2.75362051e+00, ...,\n",
              "        -1.04460109e-03, -2.14105740e-04, -3.93469526e-04],\n",
              "       ...,\n",
              "       [ 7.07346587e-01, -1.13425212e+01, -3.93914878e-01, ...,\n",
              "        -3.80341568e-04,  1.86432348e-03,  1.44785229e-03],\n",
              "       [ 1.13679090e+01, -3.37597765e+00,  5.56619766e+00, ...,\n",
              "        -4.67096832e-04,  7.44972963e-04, -1.67065056e-03],\n",
              "       [ 4.19279645e+00, -1.18418848e+00, -4.44596297e+00, ...,\n",
              "         9.67968258e-04,  2.40363971e-04, -2.80506224e-05]])"
            ]
          },
          "metadata": {},
          "execution_count": 14
        }
      ]
    },
    {
      "cell_type": "code",
      "source": [
        "pca.explained_variance_.shape"
      ],
      "metadata": {
        "colab": {
          "base_uri": "https://localhost:8080/"
        },
        "id": "Itln065mQELZ",
        "outputId": "5905c30f-ed10-4025-e83e-2c53f7b072a2"
      },
      "execution_count": 15,
      "outputs": [
        {
          "output_type": "execute_result",
          "data": {
            "text/plain": [
              "(3072,)"
            ]
          },
          "metadata": {},
          "execution_count": 15
        }
      ]
    },
    {
      "cell_type": "code",
      "source": [
        "# Calculating the optimal value of k\n",
        "k = 0\n",
        "total = sum(pca.explained_variance_)\n",
        "current_sum = 0"
      ],
      "metadata": {
        "id": "C84JCdkSQHFV"
      },
      "execution_count": 16,
      "outputs": []
    },
    {
      "cell_type": "code",
      "source": [
        "while(current_sum / total < 0.98):\n",
        "    current_sum += pca.explained_variance_[k]\n",
        "    k += 1\n",
        "k"
      ],
      "metadata": {
        "colab": {
          "base_uri": "https://localhost:8080/"
        },
        "id": "rW1g5SP8ihfL",
        "outputId": "e5c407c3-30a0-4958-ccec-8604652433be"
      },
      "execution_count": 17,
      "outputs": [
        {
          "output_type": "execute_result",
          "data": {
            "text/plain": [
              "444"
            ]
          },
          "metadata": {},
          "execution_count": 17
        }
      ]
    },
    {
      "cell_type": "code",
      "source": [
        "# Applying PCA with k calcuated above\n",
        "\n",
        "pca = PCA(n_components=k, whiten=True, svd_solver='randomized')\n",
        "\n",
        "x_train_pca = pca.fit_transform(x_train)\n",
        "x_test_pca = pca.transform(x_test)"
      ],
      "metadata": {
        "id": "dBjdqhxeQIPC"
      },
      "execution_count": 18,
      "outputs": []
    },
    {
      "cell_type": "code",
      "source": [
        "# Training using logistic\n",
        "lr = LogisticRegression()\n",
        "lr.fit(x_train_pca, ytrain)\n",
        "print(time.time())"
      ],
      "metadata": {
        "colab": {
          "base_uri": "https://localhost:8080/"
        },
        "id": "ADg-ErcJX456",
        "outputId": "a0289793-42ec-404b-8f21-5ede017d930d"
      },
      "execution_count": 19,
      "outputs": [
        {
          "output_type": "stream",
          "name": "stdout",
          "text": [
            "1651849520.0425465\n"
          ]
        }
      ]
    },
    {
      "cell_type": "code",
      "source": [
        "# Testing the trained model\n",
        "y_pred_lr = lr.predict(x_test_pca)\n",
        "logistic_regression_score = accuracy_score(ytest, y_pred_lr)\n",
        "logistic_regression_score"
      ],
      "metadata": {
        "colab": {
          "base_uri": "https://localhost:8080/"
        },
        "id": "2d6KCLzvX-1o",
        "outputId": "6831ab67-32c4-4b69-ab11-23fa33c4a5be"
      },
      "execution_count": 20,
      "outputs": [
        {
          "output_type": "execute_result",
          "data": {
            "text/plain": [
              "0.4073"
            ]
          },
          "metadata": {},
          "execution_count": 20
        }
      ]
    },
    {
      "cell_type": "code",
      "source": [
        "print(classification_report(y_pred_lr,ytest))"
      ],
      "metadata": {
        "colab": {
          "base_uri": "https://localhost:8080/"
        },
        "id": "oG1WWvF81SC9",
        "outputId": "3138ad72-00ac-4472-dbb5-7f0996fc7bf0"
      },
      "execution_count": 21,
      "outputs": [
        {
          "output_type": "stream",
          "name": "stdout",
          "text": [
            "              precision    recall  f1-score   support\n",
            "\n",
            "           0       0.49      0.45      0.47      1104\n",
            "           1       0.47      0.47      0.47      1018\n",
            "           2       0.28      0.32      0.30       875\n",
            "           3       0.27      0.29      0.28       916\n",
            "           4       0.30      0.36      0.33       814\n",
            "           5       0.34      0.33      0.34      1026\n",
            "           6       0.47      0.41      0.44      1150\n",
            "           7       0.46      0.45      0.45      1006\n",
            "           8       0.53      0.50      0.51      1072\n",
            "           9       0.46      0.45      0.45      1019\n",
            "\n",
            "    accuracy                           0.41     10000\n",
            "   macro avg       0.41      0.40      0.40     10000\n",
            "weighted avg       0.41      0.41      0.41     10000\n",
            "\n"
          ]
        }
      ]
    },
    {
      "cell_type": "markdown",
      "source": [
        "#Model 2- Support Vector Machine"
      ],
      "metadata": {
        "id": "ASePXBJXYEIr"
      }
    },
    {
      "cell_type": "code",
      "source": [
        "#Training using SVM\n",
        "svc = svm.SVC()\n",
        "svc.fit(x_train_pca, ytrain)\n",
        "print(time.time())"
      ],
      "metadata": {
        "colab": {
          "base_uri": "https://localhost:8080/"
        },
        "id": "iOkJrU97YJZr",
        "outputId": "bc42b28d-4c8c-4314-df3f-fb6e37f50e76"
      },
      "execution_count": 22,
      "outputs": [
        {
          "output_type": "stream",
          "name": "stdout",
          "text": [
            "1651851359.866215\n"
          ]
        }
      ]
    },
    {
      "cell_type": "code",
      "source": [
        "# Testing\n",
        "y_pred_svm = svc.predict(x_test_pca)\n",
        "svc_score = accuracy_score(ytest, y_pred_svm)\n",
        "svc_score"
      ],
      "metadata": {
        "colab": {
          "base_uri": "https://localhost:8080/"
        },
        "id": "qlJ-ImbgeGBb",
        "outputId": "bd73c890-73f5-4e27-c113-5621856a1dfc"
      },
      "execution_count": 23,
      "outputs": [
        {
          "output_type": "execute_result",
          "data": {
            "text/plain": [
              "0.5146"
            ]
          },
          "metadata": {},
          "execution_count": 23
        }
      ]
    },
    {
      "cell_type": "code",
      "source": [
        "print(classification_report(y_pred_svm,ytest))"
      ],
      "metadata": {
        "colab": {
          "base_uri": "https://localhost:8080/"
        },
        "id": "tEjGhB2J3SdK",
        "outputId": "484d7bfe-817e-4316-e5cf-880ebf52ca2c"
      },
      "execution_count": 24,
      "outputs": [
        {
          "output_type": "stream",
          "name": "stdout",
          "text": [
            "              precision    recall  f1-score   support\n",
            "\n",
            "           0       0.57      0.60      0.58       949\n",
            "           1       0.67      0.55      0.60      1230\n",
            "           2       0.38      0.41      0.40       921\n",
            "           3       0.38      0.37      0.37      1026\n",
            "           4       0.41      0.48      0.44       846\n",
            "           5       0.39      0.43      0.41       913\n",
            "           6       0.55      0.55      0.55      1003\n",
            "           7       0.55      0.59      0.57       934\n",
            "           8       0.62      0.67      0.64       934\n",
            "           9       0.62      0.50      0.55      1244\n",
            "\n",
            "    accuracy                           0.51     10000\n",
            "   macro avg       0.51      0.51      0.51     10000\n",
            "weighted avg       0.52      0.51      0.52     10000\n",
            "\n"
          ]
        }
      ]
    },
    {
      "cell_type": "markdown",
      "source": [
        "#Model 3 - Random forest"
      ],
      "metadata": {
        "id": "cLLd0t0ufdIr"
      }
    },
    {
      "cell_type": "code",
      "source": [
        "rf_model=RandomForestClassifier()"
      ],
      "metadata": {
        "id": "W7p4mXWWf75q"
      },
      "execution_count": 25,
      "outputs": []
    },
    {
      "cell_type": "code",
      "source": [
        "rf_model.fit(x_train,ytrain)\n",
        "print(time.time())"
      ],
      "metadata": {
        "colab": {
          "base_uri": "https://localhost:8080/"
        },
        "id": "ZovVe7RghBal",
        "outputId": "93c91ea2-47c3-4076-ed47-a51b0abe22b9"
      },
      "execution_count": 27,
      "outputs": [
        {
          "output_type": "stream",
          "name": "stdout",
          "text": [
            "1651852135.8044047\n"
          ]
        }
      ]
    },
    {
      "cell_type": "code",
      "source": [
        "y_pred_rf=rf_model.predict(x_test)\n",
        "y_pred_rf"
      ],
      "metadata": {
        "colab": {
          "base_uri": "https://localhost:8080/"
        },
        "id": "JWvIouRfiHcC",
        "outputId": "64918874-123d-438e-962f-48b3f44d01c8"
      },
      "execution_count": 28,
      "outputs": [
        {
          "output_type": "execute_result",
          "data": {
            "text/plain": [
              "array([6, 8, 8, ..., 3, 5, 7], dtype=uint8)"
            ]
          },
          "metadata": {},
          "execution_count": 28
        }
      ]
    },
    {
      "cell_type": "code",
      "source": [
        "accuracy_score(y_pred_rf,ytest)\n",
        "print(classification_report(y_pred_rf,ytest))\n"
      ],
      "metadata": {
        "colab": {
          "base_uri": "https://localhost:8080/"
        },
        "id": "eEwiZ2uviQaR",
        "outputId": "534b4e43-fa1c-4f64-e83c-5ab1c05f646f"
      },
      "execution_count": 29,
      "outputs": [
        {
          "output_type": "stream",
          "name": "stdout",
          "text": [
            "              precision    recall  f1-score   support\n",
            "\n",
            "           0       0.56      0.55      0.56      1032\n",
            "           1       0.55      0.51      0.53      1073\n",
            "           2       0.34      0.37      0.35       899\n",
            "           3       0.26      0.32      0.29       819\n",
            "           4       0.39      0.40      0.40       979\n",
            "           5       0.39      0.41      0.40       946\n",
            "           6       0.56      0.47      0.51      1197\n",
            "           7       0.45      0.51      0.48       874\n",
            "           8       0.61      0.59      0.60      1029\n",
            "           9       0.56      0.49      0.52      1152\n",
            "\n",
            "    accuracy                           0.47     10000\n",
            "   macro avg       0.47      0.46      0.46     10000\n",
            "weighted avg       0.48      0.47      0.47     10000\n",
            "\n"
          ]
        }
      ]
    },
    {
      "cell_type": "code",
      "source": [
        ""
      ],
      "metadata": {
        "id": "nl7jan84ia8v"
      },
      "execution_count": null,
      "outputs": []
    },
    {
      "cell_type": "markdown",
      "source": [
        "#Model 4 - Convolutional Neural Networks"
      ],
      "metadata": {
        "id": "Z9a7lMXsiWCs"
      }
    },
    {
      "cell_type": "code",
      "source": [
        "cnn_model=tf.keras.models.Sequential()\n",
        "\n",
        "#layer 1\n",
        "cnn_model.add(tf.keras.layers.Conv2D(filters=32,kernel_size=3,padding=\"same\", \n",
        "                    activation=\"relu\", input_shape=[32,32,3])) \n",
        "#layer 2\n",
        "cnn_model.add(tf.keras.layers.Conv2D(filters=32,kernel_size=3,\n",
        "                      padding=\"same\", activation=\"relu\"))  \n",
        "#pooling layer\n",
        "cnn_model.add(tf.keras.layers.MaxPool2D(pool_size=2,strides=2,padding='valid'))\n",
        "#layer 3\n",
        "cnn_model.add(tf.keras.layers.Conv2D(filters=64,kernel_size=3,padding=\"same\", \n",
        "                                     activation=\"relu\"))\n",
        "#layer 4\n",
        "cnn_model.add(tf.keras.layers.Conv2D(filters=64,kernel_size=3,padding=\"same\", \n",
        "                                     activation=\"relu\")) \n",
        "#pooling Layer\n",
        "cnn_model.add(tf.keras.layers.MaxPool2D(pool_size=2,strides=2,padding='valid'))\n",
        "# flattening Layer\n",
        "cnn_model.add(tf.keras.layers.Flatten()) \n",
        "#Dropout Layer\n",
        "cnn_model.add(tf.keras.layers.Dropout(0.5,noise_shape=None,seed=None)) \n",
        "#fully connected layer\n",
        "cnn_model.add(tf.keras.layers.Dense(units=128,activation='relu'))\n",
        "# Output Layer\n",
        "cnn_model.add(tf.keras.layers.Dense(units=10,activation='softmax'))"
      ],
      "metadata": {
        "id": "YJWA1tTOigA8"
      },
      "execution_count": 34,
      "outputs": []
    },
    {
      "cell_type": "code",
      "source": [
        "cnn_model.summary()"
      ],
      "metadata": {
        "colab": {
          "base_uri": "https://localhost:8080/"
        },
        "id": "4ihf4RaGiiDc",
        "outputId": "f7175b53-ec3e-4bfe-bb13-3f4b80854721"
      },
      "execution_count": 35,
      "outputs": [
        {
          "output_type": "stream",
          "name": "stdout",
          "text": [
            "Model: \"sequential_1\"\n",
            "_________________________________________________________________\n",
            " Layer (type)                Output Shape              Param #   \n",
            "=================================================================\n",
            " conv2d_4 (Conv2D)           (None, 32, 32, 32)        896       \n",
            "                                                                 \n",
            " conv2d_5 (Conv2D)           (None, 32, 32, 32)        9248      \n",
            "                                                                 \n",
            " max_pooling2d_2 (MaxPooling  (None, 16, 16, 32)       0         \n",
            " 2D)                                                             \n",
            "                                                                 \n",
            " conv2d_6 (Conv2D)           (None, 16, 16, 64)        18496     \n",
            "                                                                 \n",
            " conv2d_7 (Conv2D)           (None, 16, 16, 64)        36928     \n",
            "                                                                 \n",
            " max_pooling2d_3 (MaxPooling  (None, 8, 8, 64)         0         \n",
            " 2D)                                                             \n",
            "                                                                 \n",
            " flatten_1 (Flatten)         (None, 4096)              0         \n",
            "                                                                 \n",
            " dropout_1 (Dropout)         (None, 4096)              0         \n",
            "                                                                 \n",
            " dense_2 (Dense)             (None, 128)               524416    \n",
            "                                                                 \n",
            " dense_3 (Dense)             (None, 10)                1290      \n",
            "                                                                 \n",
            "=================================================================\n",
            "Total params: 591,274\n",
            "Trainable params: 591,274\n",
            "Non-trainable params: 0\n",
            "_________________________________________________________________\n"
          ]
        }
      ]
    },
    {
      "cell_type": "code",
      "source": [
        "cnn_model.compile(optimizer='adam', loss = 'sparse_categorical_crossentropy',\n",
        "                  metrics=['accuracy'])"
      ],
      "metadata": {
        "id": "yj5wNstRilCS"
      },
      "execution_count": 36,
      "outputs": []
    },
    {
      "cell_type": "code",
      "source": [
        "cnn_model.fit(xtrain,ytrain,epochs=20)\n",
        "print(time.time())"
      ],
      "metadata": {
        "colab": {
          "base_uri": "https://localhost:8080/"
        },
        "id": "QmR7XsRGissb",
        "outputId": "482c788e-74fc-46e3-b80a-cb8a99e11dad"
      },
      "execution_count": 37,
      "outputs": [
        {
          "output_type": "stream",
          "name": "stdout",
          "text": [
            "Epoch 1/20\n",
            "1563/1563 [==============================] - 287s 183ms/step - loss: 1.4243 - accuracy: 0.4843\n",
            "Epoch 2/20\n",
            "1563/1563 [==============================] - 285s 183ms/step - loss: 1.0035 - accuracy: 0.6449\n",
            "Epoch 3/20\n",
            "1563/1563 [==============================] - 286s 183ms/step - loss: 0.8542 - accuracy: 0.6971\n",
            "Epoch 4/20\n",
            "1563/1563 [==============================] - 282s 180ms/step - loss: 0.7596 - accuracy: 0.7332\n",
            "Epoch 5/20\n",
            "1563/1563 [==============================] - 277s 177ms/step - loss: 0.6907 - accuracy: 0.7568\n",
            "Epoch 6/20\n",
            "1563/1563 [==============================] - 275s 176ms/step - loss: 0.6276 - accuracy: 0.7794\n",
            "Epoch 7/20\n",
            "1563/1563 [==============================] - 283s 181ms/step - loss: 0.5813 - accuracy: 0.7952\n",
            "Epoch 8/20\n",
            "1563/1563 [==============================] - 282s 180ms/step - loss: 0.5442 - accuracy: 0.8077\n",
            "Epoch 9/20\n",
            "1563/1563 [==============================] - 282s 180ms/step - loss: 0.5088 - accuracy: 0.8198\n",
            "Epoch 10/20\n",
            "1563/1563 [==============================] - 280s 179ms/step - loss: 0.4796 - accuracy: 0.8287\n",
            "Epoch 11/20\n",
            "1563/1563 [==============================] - 279s 178ms/step - loss: 0.4497 - accuracy: 0.8399\n",
            "Epoch 12/20\n",
            "1563/1563 [==============================] - 278s 178ms/step - loss: 0.4285 - accuracy: 0.8491\n",
            "Epoch 13/20\n",
            "1563/1563 [==============================] - 285s 182ms/step - loss: 0.4082 - accuracy: 0.8536\n",
            "Epoch 14/20\n",
            "1563/1563 [==============================] - 281s 180ms/step - loss: 0.3906 - accuracy: 0.8629\n",
            "Epoch 15/20\n",
            "1563/1563 [==============================] - 280s 179ms/step - loss: 0.3689 - accuracy: 0.8683\n",
            "Epoch 16/20\n",
            "1563/1563 [==============================] - 279s 179ms/step - loss: 0.3521 - accuracy: 0.8740\n",
            "Epoch 17/20\n",
            "1563/1563 [==============================] - 281s 180ms/step - loss: 0.3428 - accuracy: 0.8781\n",
            "Epoch 18/20\n",
            "1563/1563 [==============================] - 286s 183ms/step - loss: 0.3361 - accuracy: 0.8818\n",
            "Epoch 19/20\n",
            "1563/1563 [==============================] - 281s 180ms/step - loss: 0.3260 - accuracy: 0.8842\n",
            "Epoch 20/20\n",
            "1563/1563 [==============================] - 280s 179ms/step - loss: 0.3155 - accuracy: 0.8872\n",
            "1651858789.557069\n"
          ]
        }
      ]
    },
    {
      "cell_type": "code",
      "source": [
        "cnn_model.evaluate(xtest,ytest)"
      ],
      "metadata": {
        "colab": {
          "base_uri": "https://localhost:8080/"
        },
        "id": "XRauC4BUqb9o",
        "outputId": "82fddef7-f0d3-45ba-a76d-3bc41fed6186"
      },
      "execution_count": 38,
      "outputs": [
        {
          "output_type": "stream",
          "name": "stdout",
          "text": [
            "313/313 [==============================] - 14s 44ms/step - loss: 0.7077 - accuracy: 0.7785\n"
          ]
        },
        {
          "output_type": "execute_result",
          "data": {
            "text/plain": [
              "[0.7076740860939026, 0.7785000205039978]"
            ]
          },
          "metadata": {},
          "execution_count": 38
        }
      ]
    },
    {
      "cell_type": "code",
      "source": [
        "ytest=ytest.reshape(-1)"
      ],
      "metadata": {
        "id": "cgU3dxHMqjg8"
      },
      "execution_count": 39,
      "outputs": []
    },
    {
      "cell_type": "code",
      "source": [
        "ypred=cnn_model.predict(xtest)\n",
        "ypred[:5]"
      ],
      "metadata": {
        "colab": {
          "base_uri": "https://localhost:8080/"
        },
        "id": "Kt0FgrGFq6C1",
        "outputId": "81430de8-0454-4a1b-aa43-f6f1a022491b"
      },
      "execution_count": 40,
      "outputs": [
        {
          "output_type": "execute_result",
          "data": {
            "text/plain": [
              "array([[1.88332604e-04, 9.92961461e-04, 2.94955134e-05, 9.23616648e-01,\n",
              "        1.39471304e-05, 6.83425814e-02, 4.94380575e-03, 6.22099498e-04,\n",
              "        4.47027676e-04, 8.03092786e-04],\n",
              "       [1.56382146e-06, 6.82497630e-04, 2.78626406e-13, 6.10268400e-13,\n",
              "        2.40457627e-14, 1.22415171e-15, 5.57340427e-16, 6.56703221e-14,\n",
              "        9.99279797e-01, 3.61705315e-05],\n",
              "       [4.03738767e-02, 1.67575523e-01, 1.37442505e-04, 5.65325783e-04,\n",
              "        1.31333227e-05, 1.73879453e-05, 1.78336923e-05, 6.03328226e-03,\n",
              "        5.60034335e-01, 2.25231871e-01],\n",
              "       [9.05664444e-01, 1.64219609e-03, 1.28557638e-03, 3.34932229e-05,\n",
              "        5.89574920e-05, 1.79440072e-08, 1.33702993e-09, 9.80663572e-06,\n",
              "        3.46872001e-03, 8.78366977e-02],\n",
              "       [3.56349858e-07, 5.27554585e-06, 1.00797005e-01, 8.28389369e-04,\n",
              "        5.04874485e-03, 2.19767981e-06, 8.93317819e-01, 6.00348171e-09,\n",
              "        2.08962305e-07, 4.69640646e-08]], dtype=float32)"
            ]
          },
          "metadata": {},
          "execution_count": 40
        }
      ]
    },
    {
      "cell_type": "code",
      "source": [
        "y_classes=[np.argmax(element) for element in ypred]\n",
        "y_classes[:10]"
      ],
      "metadata": {
        "colab": {
          "base_uri": "https://localhost:8080/"
        },
        "id": "uya8B7lqrCG_",
        "outputId": "5f2612a0-475a-4538-cbb6-eea219248162"
      },
      "execution_count": 41,
      "outputs": [
        {
          "output_type": "execute_result",
          "data": {
            "text/plain": [
              "[3, 8, 8, 0, 6, 5, 9, 4, 3, 1]"
            ]
          },
          "metadata": {},
          "execution_count": 41
        }
      ]
    },
    {
      "cell_type": "code",
      "source": [
        "ytest[:10]"
      ],
      "metadata": {
        "colab": {
          "base_uri": "https://localhost:8080/"
        },
        "id": "NLv2J00orMnY",
        "outputId": "c28639d1-64f7-4e5e-d815-0673132df2b0"
      },
      "execution_count": 42,
      "outputs": [
        {
          "output_type": "execute_result",
          "data": {
            "text/plain": [
              "array([3, 8, 8, 0, 6, 6, 1, 6, 3, 1], dtype=uint8)"
            ]
          },
          "metadata": {},
          "execution_count": 42
        }
      ]
    },
    {
      "cell_type": "code",
      "source": [
        "image_with_label(xtest,ytest,14)"
      ],
      "metadata": {
        "colab": {
          "base_uri": "https://localhost:8080/",
          "height": 226
        },
        "id": "9tRN11p7rSL4",
        "outputId": "7839aa47-1eac-434f-c770-4259245ebd86"
      },
      "execution_count": 43,
      "outputs": [
        {
          "output_type": "display_data",
          "data": {
            "text/plain": [
              "<Figure size 2160x216 with 1 Axes>"
            ],
            "image/png": "[encoded data removed]"
          },
          "metadata": {
            "needs_background": "light"
          }
        }
      ]
    },
    {
      "cell_type": "code",
      "source": [
        "print('Classification Report: \\n', classification_report(ytest,y_classes))"
      ],
      "metadata": {
        "colab": {
          "base_uri": "https://localhost:8080/"
        },
        "id": "az3iMCfvrWdU",
        "outputId": "5ae4d6db-c0e3-4e4c-bea9-2f06f72c1e83"
      },
      "execution_count": 44,
      "outputs": [
        {
          "output_type": "stream",
          "name": "stdout",
          "text": [
            "Classification Report: \n",
            "               precision    recall  f1-score   support\n",
            "\n",
            "           0       0.84      0.76      0.80      1000\n",
            "           1       0.90      0.88      0.89      1000\n",
            "           2       0.75      0.63      0.69      1000\n",
            "           3       0.62      0.61      0.61      1000\n",
            "           4       0.72      0.78      0.75      1000\n",
            "           5       0.70      0.68      0.69      1000\n",
            "           6       0.85      0.80      0.82      1000\n",
            "           7       0.75      0.86      0.80      1000\n",
            "           8       0.89      0.86      0.88      1000\n",
            "           9       0.78      0.92      0.84      1000\n",
            "\n",
            "    accuracy                           0.78     10000\n",
            "   macro avg       0.78      0.78      0.78     10000\n",
            "weighted avg       0.78      0.78      0.78     10000\n",
            "\n"
          ]
        }
      ]
    }
  ]
}